{
 "cells": [
  {
   "cell_type": "markdown",
   "metadata": {},
   "source": [
    "<img src=\"https://unidata.ucar.edu/images/logos/badges/badge_unidata_100.jpg\" alt=\"Unidata Logo\" style=\"float: right; height: 98px;\">\n",
    "\n",
    "# Siphon THREDDS Jupyter Notebook Viewer \n",
    "\n",
    "## Dataset: {{datasetName}}\n",
    "___"
   ]
  },
  {
   "cell_type": "markdown",
   "metadata": {},
   "source": [
    "### Dependencies:\n",
    "* *Siphon*:`pip install siphon`\n",
    "* *matplotlib*:`pip install matplotlib` or `conda install -c conda-forge matplotlib`\n",
    "* *ipywidgets*:`pip install ipywidgets` or `conda install -c conda-forge ipywidgets`  \n",
    "* enable *ipywidgets*:\n",
    "    * using Juputer Notebooks: `jupyter nbextension enable --py widgetsnbextension`\n",
    "    * using JupyterLab:\n",
    "        * nodejs: `conda install nodejs`\n",
    "        * `jupyter labextension install @jupyter-widgets/jupyterlab-manager`\n",
    "* *numpy*: `pip install numpy` or `conda install numpy`\n",
    "___"
   ]
  },
  {
   "cell_type": "code",
   "execution_count": null,
   "metadata": {},
   "outputs": [],
   "source": [
    "from siphon.catalog import TDSCatalog\n",
    "import matplotlib.pyplot as plt\n",
    "import numpy as np\n",
    "import ipywidgets as widgets"
   ]
  },
  {
   "cell_type": "code",
   "execution_count": null,
   "metadata": {},
   "outputs": [],
   "source": [
    "catUrl = \"{{catUrl}}\";\n",
    "datasetName = \"{{datasetName}}\";"
   ]
  },
  {
   "cell_type": "markdown",
   "metadata": {},
   "source": [
    "### Access a dataset\n",
    "With the TDS catalog url, we can use Siphon to get the dataset named `datasetName`."
   ]
  },
  {
   "cell_type": "code",
   "execution_count": null,
   "metadata": {},
   "outputs": [],
   "source": [
    "catalog = TDSCatalog(catUrl)"
   ]
  },
  {
   "cell_type": "code",
   "execution_count": null,
   "metadata": {},
   "outputs": [],
   "source": [
    "ds = catalog.datasets[datasetName]\n",
    "ds.name"
   ]
  },
  {
   "cell_type": "markdown",
   "metadata": {},
   "source": [
    "Datasets each have a set of access protocols:"
   ]
  },
  {
   "cell_type": "code",
   "execution_count": null,
   "metadata": {},
   "outputs": [],
   "source": [
    "list(ds.access_urls)"
   ]
  },
  {
   "cell_type": "markdown",
   "metadata": {},
   "source": [
    "Siphon's `remote-access` returns a `Dataset` object, which opens the remote dataset and provides access to its metadata:"
   ]
  },
  {
   "cell_type": "code",
   "execution_count": null,
   "metadata": {},
   "outputs": [],
   "source": [
    "dataset = ds.remote_access()"
   ]
  },
  {
   "cell_type": "code",
   "execution_count": null,
   "metadata": {},
   "outputs": [],
   "source": [
    "list(dataset.ncattrs())"
   ]
  },
  {
   "cell_type": "markdown",
   "metadata": {},
   "source": [
    "### Display a variable:\n",
    "1) Create a widget to select from a list of all variables in this dataset.\n"
   ]
  },
  {
   "cell_type": "code",
   "execution_count": null,
   "metadata": {},
   "outputs": [],
   "source": [
    "var_name = widgets.RadioButtons(\n",
    "    options=list(dataset.variables),\n",
    "    description='Variable:')\n"
   ]
  },
  {
   "cell_type": "markdown",
   "metadata": {},
   "source": [
    "2) Run the cell below to display the widget.  \n",
    "3) Select the variable you wish to view."
   ]
  },
  {
   "cell_type": "code",
   "execution_count": null,
   "metadata": {},
   "outputs": [],
   "source": [
    "display(var_name)"
   ]
  },
  {
   "cell_type": "markdown",
   "metadata": {},
   "source": [
    "4) Display information about the chosen variable"
   ]
  },
  {
   "cell_type": "code",
   "execution_count": null,
   "metadata": {},
   "outputs": [],
   "source": [
    "var = dataset.variables[var_name.value];\n",
    "print(\"Name: \" + var.name);\n",
    "print(\"Dimensions: \" + str(list(var.dimensions)));\n",
    "print(\"Shape: \" + str(var.shape));\n",
    "import operator\n",
    "from functools import reduce\n",
    "nelems = reduce(operator.mul, var.shape, 1);\n",
    "print(\"# elements: \" + str(nelems));\n",
    "print(\"Datatype: \" + str(var.dtype));"
   ]
  },
  {
   "cell_type": "markdown",
   "metadata": {},
   "source": [
    "5) Attempt to plot the variable."
   ]
  },
  {
   "cell_type": "code",
   "execution_count": null,
   "metadata": {},
   "outputs": [],
   "source": [
    "# EDIT these values to print or plot fewer/more elements\n",
    "max_print_elems = 1000; # don't print more than this number of elements\n",
    "max_elems = 10000; # don't request more than this number of elements (<100M to avoid HTTP errors)\n",
    "\n",
    "# only atttempt to plot numeric types\n",
    "if (not(var.dtype == np.uint8 or np.can_cast(var.dtype, float, \"same_kind\"))):\n",
    "    print(\"Not a numeric type - cannot plot variable: \", var.name);\n",
    "    if (nelems > max_print_elems):\n",
    "        print(\"Too many elements - printing first \" + str(max_print_elems) + \" elements\");\n",
    "        var = var.flatten()[0:max_print_elems];\n",
    "        print(var);\n",
    "        \n",
    "else:\n",
    "    # assure plotable number of dimensions\n",
    "    ndims = len([s for s in var.shape if s > 1]);\n",
    "    max_dims = 2;\n",
    "    shape = np.array(var.shape);\n",
    "    if (ndims > max_dims):\n",
    "        print(\"Too many dimensions - reducing last \" + str(ndims-max_dims) + \" dimensions.\")\n",
    "        shape[np.argwhere(shape>1).flatten().tolist()[max_dims:]] = 1;\n",
    "        print(\"New shape: \" + str(shape))\n",
    "        ndims = max_dims;\n",
    "\n",
    "    # assure plotable number of elements   \n",
    "    nelems = reduce(operator.mul, shape, 1);\n",
    "    scale = (nelems/max_elems)**(1/ndims) if ndims else 0;\n",
    "    if (scale > 1):\n",
    "        print(\"Too many elements - subsetting variable\")\n",
    "        shape[np.argwhere(shape>1).flatten().tolist()] = shape[np.argwhere(shape>1).flatten().tolist()]//scale;\n",
    "        print(\"New shape: \" + str(shape));\n",
    "              \n",
    "    # EDIT indices variable to change the number/indices of plotted elements\n",
    "    to_slice = lambda x : slice(None, x, None)\n",
    "    indices = [to_slice(s) for s in shape]\n",
    "    \n",
    "    # make copy of (possible) subset of variable\n",
    "    disp_var = var[indices];\n",
    "\n",
    "    # plot the variable\n",
    "    %matplotlib inline\n",
    "    # for one-dimensional data, print value\n",
    "    if (ndims == 0):\n",
    "        print(var.name, \": \", disp_var)\n",
    "    # for two-dimensional data, make a line plot\n",
    "    elif (ndims == 1):\n",
    "        plt.plot(np.squeeze(np.array([range(len(np.squeeze(disp_var[:])))])), np.squeeze(disp_var[:]), 'bo', markersize=5)\n",
    "        plt.title(var.name)\n",
    "        plt.show()\n",
    "    # for three-dimensional data, make an image\n",
    "    elif (ndims == 2):\n",
    "        plt.imshow(np.squeeze(disp_var[:]))\n",
    "        plt.title(var.name)\n",
    "        plt.show()"
   ]
  },
  {
   "cell_type": "markdown",
   "metadata": {},
   "source": [
    "**Note** that data are only transferred over the network when the variable is sliced, and only data corresponding to the slice are downloaded. In this case, we are ask for a subset of the data with `disp_var = var[indices]`. You may change the values to `indices` to request a different subset of data.\n",
    "\n",
    "---"
   ]
  },
  {
   "cell_type": "markdown",
   "metadata": {},
   "source": [
    "6) To plot a different variable, select it in the widget and rerun the subsequent cells."
   ]
  },
  {
   "cell_type": "markdown",
   "metadata": {},
   "source": [
    "### More with Siphon\n",
    "To see what else you can do, view the [Siphon API](https://unidata.github.io/siphon/latest/api/index.html)."
   ]
  },
  {
   "cell_type": "code",
   "execution_count": null,
   "metadata": {},
   "outputs": [],
   "source": [
    "### Your code here ###"
   ]
  }
 ],
 "metadata": {
  "kernelspec": {
   "display_name": "Python 3",
   "language": "python",
   "name": "python3"
  },
  "language_info": {
   "codemirror_mode": {
    "name": "ipython",
    "version": 3
   },
   "file_extension": ".py",
   "mimetype": "text/x-python",
   "name": "python",
   "nbconvert_exporter": "python",
   "pygments_lexer": "ipython3",
   "version": "3.8.5"
  },
  "viewer_info": {
   "description": "The TDS default viewer attempts to plot any Variable contained in the Dataset.",
   "accepts": {}
  }
 },
 "nbformat": 4,
 "nbformat_minor": 2
}
